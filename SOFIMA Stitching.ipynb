{
 "cells": [
  {
   "cell_type": "code",
   "execution_count": 1,
   "id": "7491c927-5982-4750-8a3c-764879e8a5a9",
   "metadata": {},
   "outputs": [],
   "source": [
    "import os\n",
    "\n",
    "os.environ[\"XLA_PYTHON_CLIENT_PREALLOCATE\"] = \"false\"\n",
    "from em_alignment.sbem.experiment.Experiment import Experiment"
   ]
  },
  {
   "cell_type": "code",
   "execution_count": 2,
   "id": "830f7506-a605-4e55-bc59-489b9521bc2b",
   "metadata": {},
   "outputs": [
    {
     "name": "stderr",
     "output_type": "stream",
     "text": [
      "Loading Sections: 100%|███████████████████████████████████████████████████████████████| 3/3 [00:00<00:00, 855.05it/s]\n"
     ]
    }
   ],
   "source": [
    "exp = Experiment()\n",
    "exp.load(\"/home/tibuch/Data/gfriedri/test-case/\")"
   ]
  },
  {
   "cell_type": "code",
   "execution_count": 3,
   "id": "fb6ebfef-069a-4fae-affd-3becb786aa47",
   "metadata": {},
   "outputs": [],
   "source": [
    "from em_alignment.sbem.tile_stitching.sofima_utils import register_tiles, render_tiles"
   ]
  },
  {
   "cell_type": "code",
   "execution_count": 4,
   "id": "81faebef-7bc3-433e-b4da-59fe5e235467",
   "metadata": {},
   "outputs": [],
   "source": [
    "sec = exp.blocks[\"block1\"].sections[(5321, 1)]"
   ]
  },
  {
   "cell_type": "code",
   "execution_count": 5,
   "id": "1c9ceedc-dc22-46ec-9a40-19765a7586a8",
   "metadata": {},
   "outputs": [],
   "source": [
    "from time import time"
   ]
  },
  {
   "cell_type": "code",
   "execution_count": 6,
   "id": "d39d8f58-509a-4347-a66d-e29654a71445",
   "metadata": {},
   "outputs": [
    {
     "name": "stdout",
     "output_type": "stream",
     "text": [
      "528.5769054889679\n"
     ]
    }
   ],
   "source": [
    "start = time()\n",
    "meshes = register_tiles(sec, 20)\n",
    "end = time()\n",
    "print(end - start)"
   ]
  },
  {
   "cell_type": "code",
   "execution_count": null,
   "id": "8c73ca9e-48bd-4a4c-bcc6-24bffe3a47c9",
   "metadata": {},
   "outputs": [
    {
     "name": "stdout",
     "output_type": "stream",
     "text": [
      "coarse mesh done.\n",
      "stitch_ealastic.compute_flow_map done.\n",
      "clean flow done.\n",
      "reoncile flows done.\n",
      "aggregate arrays done.\n"
     ]
    }
   ],
   "source": [
    "start = time()\n",
    "meshes = register_tiles(sec, 20, batch_size=4)\n",
    "end = time()\n",
    "print(end - start)"
   ]
  },
  {
   "cell_type": "code",
   "execution_count": 9,
   "id": "964527f1-6c30-4e72-ade8-a79ba5d11bb3",
   "metadata": {},
   "outputs": [
    {
     "name": "stdout",
     "output_type": "stream",
     "text": [
      "220.8080997467041\n"
     ]
    }
   ],
   "source": [
    "start = time()\n",
    "stitched, mask = render_tiles(sec.get_tile_data_map(), meshes, 20)\n",
    "end = time()\n",
    "print(end - start)"
   ]
  },
  {
   "cell_type": "code",
   "execution_count": null,
   "id": "17cd7f6f-603a-41c3-b4a7-16a682551ac5",
   "metadata": {},
   "outputs": [],
   "source": [
    "name = (\n",
    "        f\"exp-{sec.block.experiment.name}_\"\n",
    "        f\"block-{sec.block.block_id}_\"\n",
    "        f\"section-{sec.section_num:05d}_\"\n",
    "        f\"grid-{sec.tile_grid_num}\"\n",
    "    )\n",
    "imsave(\n",
    "    join(sec.save_dir, name + \".tif\"),\n",
    "    stitched,\n",
    "    compress=6,\n",
    "    check_contrast=False,\n",
    ")\n",
    "imsave(\n",
    "    join(sec.save_dir, name + \"_mask.tif\"),\n",
    "    mask.astype(np.int8),\n",
    "    compress=6,\n",
    "    check_contrast=False,\n",
    ")"
   ]
  }
 ],
 "metadata": {
  "kernelspec": {
   "display_name": "Python 3 (ipykernel)",
   "language": "python",
   "name": "python3"
  },
  "language_info": {
   "codemirror_mode": {
    "name": "ipython",
    "version": 3
   },
   "file_extension": ".py",
   "mimetype": "text/x-python",
   "name": "python",
   "nbconvert_exporter": "python",
   "pygments_lexer": "ipython3",
   "version": "3.7.13"
  }
 },
 "nbformat": 4,
 "nbformat_minor": 5
}
