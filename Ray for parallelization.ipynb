{
 "cells": [
  {
   "cell_type": "code",
   "execution_count": 1,
   "id": "51974da9-1071-4507-a43b-55c7c6509c50",
   "metadata": {},
   "outputs": [],
   "source": [
    "import ray\n",
    "import time"
   ]
  },
  {
   "cell_type": "code",
   "execution_count": 2,
   "id": "31b67d32-311a-4a65-afe6-58f95738bde4",
   "metadata": {},
   "outputs": [],
   "source": [
    "# A regular Python function.\n",
    "def normal_function():\n",
    "    return 1\n",
    "\n",
    "\n",
    "# By adding the `@ray.remote` decorator, a regular Python function\n",
    "# becomes a Ray remote function.\n",
    "@ray.remote\n",
    "def my_function():\n",
    "    return 1"
   ]
  },
  {
   "cell_type": "code",
   "execution_count": 3,
   "id": "a541c5b6-eafb-49aa-b1e2-c4500dbc58ab",
   "metadata": {},
   "outputs": [],
   "source": [
    "# To invoke this remote function, use the `remote` method.\n",
    "# This will immediately return an object ref (a future) and then create\n",
    "# a task that will be executed on a worker process.\n",
    "obj_ref = my_function.remote()\n",
    "\n",
    "# The result can be retrieved with ``ray.get``.\n",
    "assert ray.get(obj_ref) == 1"
   ]
  },
  {
   "cell_type": "code",
   "execution_count": 4,
   "id": "8cf1766a-d11b-4182-b678-07e99ab2912b",
   "metadata": {},
   "outputs": [],
   "source": [
    "@ray.remote\n",
    "def slow_function():\n",
    "    time.sleep(10)\n",
    "    return 1"
   ]
  },
  {
   "cell_type": "code",
   "execution_count": 5,
   "id": "ed83d653-a795-4a33-8a89-fa1490cc3dc1",
   "metadata": {},
   "outputs": [],
   "source": [
    "# Invocations of Ray remote functions happen in parallel.\n",
    "# All computation is performed in the background, driven by Ray's internal event loop.\n",
    "for _ in range(4):\n",
    "    # This doesn't block.\n",
    "    slow_function.remote()"
   ]
  },
  {
   "cell_type": "code",
   "execution_count": 6,
   "id": "98ac7297-3608-4dc3-9b14-c655dc573a5a",
   "metadata": {},
   "outputs": [],
   "source": [
    "@ray.remote(num_gpus=0.5)\n",
    "def h():\n",
    "    return 1"
   ]
  },
  {
   "cell_type": "code",
   "execution_count": 7,
   "id": "019293c3-24fd-4da0-93ac-580683355943",
   "metadata": {},
   "outputs": [],
   "source": [
    "res = h.remote()"
   ]
  },
  {
   "cell_type": "code",
   "execution_count": 8,
   "id": "0e8158b2-0eaa-4f8f-add4-5d4b43256298",
   "metadata": {},
   "outputs": [
    {
     "data": {
      "text/plain": [
       "1"
      ]
     },
     "execution_count": 8,
     "metadata": {},
     "output_type": "execute_result"
    }
   ],
   "source": [
    "ray.get(res)"
   ]
  },
  {
   "cell_type": "code",
   "execution_count": 9,
   "id": "03f5658c-bc67-4d1e-9cf1-52dc5db90e78",
   "metadata": {},
   "outputs": [],
   "source": [
    "@ray.remote(num_gpus=0.1)\n",
    "def has_gpu():\n",
    "    import jax\n",
    "    from jax.lib import xla_bridge\n",
    "    print(xla_bridge.get_backend().platform)\n",
    "    x = jax.numpy.array((10,10))"
   ]
  },
  {
   "cell_type": "code",
   "execution_count": 10,
   "id": "abfbd560-94da-4016-9bf1-182de9b75c02",
   "metadata": {},
   "outputs": [
    {
     "name": "stdout",
     "output_type": "stream",
     "text": [
      "\u001b[2m\u001b[36m(has_gpu pid=206541)\u001b[0m gpu\n",
      "\u001b[2m\u001b[36m(has_gpu pid=206556)\u001b[0m gpu\n",
      "\u001b[2m\u001b[36m(has_gpu pid=206547)\u001b[0m gpu\n"
     ]
    }
   ],
   "source": [
    "jax_objs = [has_gpu.remote() for _ in range(3)]"
   ]
  },
  {
   "cell_type": "code",
   "execution_count": 12,
   "id": "607ffa9d-2e4a-4234-9780-3cc3c9196b41",
   "metadata": {},
   "outputs": [],
   "source": [
    "for o in jax_objs:\n",
    "    ray.get(o)"
   ]
  },
  {
   "cell_type": "code",
   "execution_count": 13,
   "id": "f9d393fc-a003-4416-9cc7-e0fbdf577a46",
   "metadata": {},
   "outputs": [],
   "source": [
    "ray.shutdown()"
   ]
  },
  {
   "cell_type": "code",
   "execution_count": null,
   "id": "8bad7709-d9d2-4e3d-abc4-242b2c3d444b",
   "metadata": {},
   "outputs": [],
   "source": []
  }
 ],
 "metadata": {
  "kernelspec": {
   "display_name": "Python 3 (ipykernel)",
   "language": "python",
   "name": "python3"
  },
  "language_info": {
   "codemirror_mode": {
    "name": "ipython",
    "version": 3
   },
   "file_extension": ".py",
   "mimetype": "text/x-python",
   "name": "python",
   "nbconvert_exporter": "python",
   "pygments_lexer": "ipython3",
   "version": "3.7.13"
  }
 },
 "nbformat": 4,
 "nbformat_minor": 5
}
